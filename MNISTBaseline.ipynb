{
 "cells": [
  {
   "cell_type": "markdown",
   "metadata": {},
   "source": [
    "Baseline DNN- - Lab3 - - Vinay Bhapkar - - vvb231@nyu.edu"
   ]
  },
  {
   "cell_type": "code",
   "execution_count": 308,
   "metadata": {},
   "outputs": [
    {
     "name": "stdout",
     "output_type": "stream",
     "text": [
      "Extracting /tmp/data/train-images-idx3-ubyte.gz\n",
      "Extracting /tmp/data/train-labels-idx1-ubyte.gz\n",
      "Extracting /tmp/data/t10k-images-idx3-ubyte.gz\n",
      "Extracting /tmp/data/t10k-labels-idx1-ubyte.gz\n"
     ]
    }
   ],
   "source": [
    "import tensorflow as tf\n",
    "\n",
    "from tensorflow.examples.tutorials.mnist import input_data\n",
    "mnist = input_data.read_data_sets(\"/tmp/data/\", one_hot=True)\n",
    "\n",
    "\n",
    "from keras.models import Sequential\n",
    "\n",
    "from keras import optimizers\n",
    "from keras.models import Sequential\n",
    "from keras.layers import Dense, Activation\n",
    "\n",
    "from scipy import misc\n",
    "import numpy as np\n",
    "import matplotlib.pyplot as plt\n",
    "import pandas as pd\n",
    "%matplotlib inline"
   ]
  },
  {
   "cell_type": "code",
   "execution_count": 2,
   "metadata": {},
   "outputs": [
    {
     "name": "stdout",
     "output_type": "stream",
     "text": [
      "Epoch 1/20\n",
      "55000/55000 [==============================] - 2s 34us/step - loss: 0.0892 - acc: 0.1776\n",
      "Epoch 2/20\n",
      "55000/55000 [==============================] - 2s 32us/step - loss: 0.0860 - acc: 0.3415\n",
      "Epoch 3/20\n",
      "55000/55000 [==============================] - 2s 30us/step - loss: 0.0821 - acc: 0.4439\n",
      "Epoch 4/20\n",
      "55000/55000 [==============================] - 2s 29us/step - loss: 0.0777 - acc: 0.5063\n",
      "Epoch 5/20\n",
      "55000/55000 [==============================] - 2s 28us/step - loss: 0.0729 - acc: 0.5555\n",
      "Epoch 6/20\n",
      "55000/55000 [==============================] - 2s 32us/step - loss: 0.0680 - acc: 0.5941\n",
      "Epoch 7/20\n",
      "55000/55000 [==============================] - 2s 29us/step - loss: 0.0631 - acc: 0.6321\n",
      "Epoch 8/20\n",
      "55000/55000 [==============================] - 2s 28us/step - loss: 0.0584 - acc: 0.6728\n",
      "Epoch 9/20\n",
      "55000/55000 [==============================] - 2s 30us/step - loss: 0.0542 - acc: 0.7075\n",
      "Epoch 10/20\n",
      "55000/55000 [==============================] - 2s 28us/step - loss: 0.0504 - acc: 0.7351\n",
      "Epoch 11/20\n",
      "55000/55000 [==============================] - 2s 28us/step - loss: 0.0470 - acc: 0.7581\n",
      "Epoch 12/20\n",
      "55000/55000 [==============================] - 2s 28us/step - loss: 0.0440 - acc: 0.7779\n",
      "Epoch 13/20\n",
      "55000/55000 [==============================] - 2s 31us/step - loss: 0.0414 - acc: 0.7968\n",
      "Epoch 14/20\n",
      "55000/55000 [==============================] - 2s 33us/step - loss: 0.0390 - acc: 0.8136\n",
      "Epoch 15/20\n",
      "55000/55000 [==============================] - 2s 30us/step - loss: 0.0368 - acc: 0.8265\n",
      "Epoch 16/20\n",
      "55000/55000 [==============================] - 2s 28us/step - loss: 0.0350 - acc: 0.8346\n",
      "Epoch 17/20\n",
      "55000/55000 [==============================] - 2s 29us/step - loss: 0.0333 - acc: 0.8416\n",
      "Epoch 18/20\n",
      "55000/55000 [==============================] - 2s 30us/step - loss: 0.0319 - acc: 0.8468\n",
      "Epoch 19/20\n",
      "55000/55000 [==============================] - 2s 28us/step - loss: 0.0306 - acc: 0.8508\n",
      "Epoch 20/20\n",
      "55000/55000 [==============================] - 2s 30us/step - loss: 0.0295 - acc: 0.8545\n"
     ]
    },
    {
     "data": {
      "text/plain": [
       "<keras.callbacks.History at 0x122473f98>"
      ]
     },
     "execution_count": 2,
     "metadata": {},
     "output_type": "execute_result"
    }
   ],
   "source": [
    "import keras.backend as K\n",
    "K.clear_session()\n",
    "\n",
    "model = Sequential()\n",
    "model.add(Dense(300, kernel_initializer='uniform', input_shape=(784,)))\n",
    "model.add(Activation('relu'))\n",
    "model.add(Dense(10))\n",
    "model.add(Activation('softmax'))\n",
    "\n",
    "model.compile(optimizer='sgd',\n",
    "              loss='mean_squared_error',\n",
    "              metrics=['accuracy'])\n",
    "\n",
    "model.fit(mnist.train.images, mnist.train.labels, epochs=20, batch_size=100)"
   ]
  },
  {
   "cell_type": "code",
   "execution_count": 3,
   "metadata": {},
   "outputs": [
    {
     "name": "stdout",
     "output_type": "stream",
     "text": [
      "3000/3000 [==============================] - 0s 25us/step\n",
      "[0.0330161590129137, 0.8343333343664805]\n"
     ]
    }
   ],
   "source": [
    "score = model.evaluate(mnist.test.images[:3000], mnist.test.labels[:3000], batch_size=100)\n",
    "print(score)"
   ]
  },
  {
   "cell_type": "code",
   "execution_count": 4,
   "metadata": {},
   "outputs": [
    {
     "name": "stdout",
     "output_type": "stream",
     "text": [
      "_________________________________________________________________\n",
      "Layer (type)                 Output Shape              Param #   \n",
      "=================================================================\n",
      "dense_1 (Dense)              (None, 300)               235500    \n",
      "_________________________________________________________________\n",
      "activation_1 (Activation)    (None, 300)               0         \n",
      "_________________________________________________________________\n",
      "dense_2 (Dense)              (None, 10)                3010      \n",
      "_________________________________________________________________\n",
      "activation_2 (Activation)    (None, 10)                0         \n",
      "=================================================================\n",
      "Total params: 238,510\n",
      "Trainable params: 238,510\n",
      "Non-trainable params: 0\n",
      "_________________________________________________________________\n"
     ]
    }
   ],
   "source": [
    "model.summary()"
   ]
  },
  {
   "cell_type": "code",
   "execution_count": 5,
   "metadata": {},
   "outputs": [],
   "source": [
    "w =[]\n",
    "for layer in model.layers:\n",
    "    weights = layer.get_weights()\n",
    "    w.append(weights)"
   ]
  },
  {
   "cell_type": "code",
   "execution_count": 6,
   "metadata": {},
   "outputs": [],
   "source": [
    "w1 = model.layers[0].get_weights()[0]\n",
    "b1 = model.layers[0].get_weights()[1]\n"
   ]
  },
  {
   "cell_type": "code",
   "execution_count": 7,
   "metadata": {},
   "outputs": [],
   "source": [
    "w2 = model.layers[2].get_weights()[0]\n",
    "b2 = model.layers[2].get_weights()[1]\n"
   ]
  },
  {
   "cell_type": "code",
   "execution_count": 267,
   "metadata": {},
   "outputs": [
    {
     "name": "stdout",
     "output_type": "stream",
     "text": [
      "(784, 300)\n",
      "(300,)\n",
      "(300, 10)\n",
      "(10,)\n"
     ]
    }
   ],
   "source": [
    "print(w1.shape)\n",
    "print(b1.shape)\n",
    "print(w2.shape)\n",
    "print(b2.shape)"
   ]
  },
  {
   "cell_type": "code",
   "execution_count": 268,
   "metadata": {},
   "outputs": [],
   "source": [
    "np.save('w1',w1)\n",
    "np.save('b1',b1)\n",
    "np.save('w2',w2)\n",
    "np.save('b2',b2)"
   ]
  },
  {
   "cell_type": "code",
   "execution_count": null,
   "metadata": {},
   "outputs": [],
   "source": []
  }
 ],
 "metadata": {
  "kernelspec": {
   "display_name": "Python 3",
   "language": "python",
   "name": "python3"
  },
  "language_info": {
   "codemirror_mode": {
    "name": "ipython",
    "version": 3
   },
   "file_extension": ".py",
   "mimetype": "text/x-python",
   "name": "python",
   "nbconvert_exporter": "python",
   "pygments_lexer": "ipython3",
   "version": "3.6.3"
  }
 },
 "nbformat": 4,
 "nbformat_minor": 2
}
